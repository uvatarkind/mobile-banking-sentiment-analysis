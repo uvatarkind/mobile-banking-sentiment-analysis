{
 "cells": [
  {
   "cell_type": "code",
   "execution_count": 1,
   "id": "29367e5b",
   "metadata": {},
   "outputs": [
    {
     "name": "stderr",
     "output_type": "stream",
     "text": [
      "c:\\Users\\hp\\Documents\\Kifya-AI\\complaint-analysis-week6\\.venv\\Lib\\site-packages\\tqdm\\auto.py:21: TqdmWarning: IProgress not found. Please update jupyter and ipywidgets. See https://ipywidgets.readthedocs.io/en/stable/user_install.html\n",
      "  from .autonotebook import tqdm as notebook_tqdm\n"
     ]
    }
   ],
   "source": [
    "import os\n",
    "import pandas as pd\n",
    "import numpy as np\n",
    "import pickle\n",
    "import torch\n",
    "import faiss\n",
    "\n",
    "from tqdm import tqdm\n",
    "from langchain.text_splitter import RecursiveCharacterTextSplitter\n",
    "from sentence_transformers import SentenceTransformer"
   ]
  },
  {
   "cell_type": "code",
   "execution_count": 2,
   "id": "3666f950",
   "metadata": {},
   "outputs": [],
   "source": [
    "DATA_PATH = \"../data/filtered_complaints.csv\"\n",
    "VECTOR_STORE_DIR = \"../vector_store\"\n",
    "CHUNK_SIZE = 1000\n",
    "CHUNK_OVERLAP = 250\n",
    "EMBEDDING_MODEL_NAME = \"all-MiniLM-L6-v2\"\n",
    "BATCH_SIZE = 32"
   ]
  },
  {
   "cell_type": "code",
   "execution_count": 3,
   "id": "180131fb",
   "metadata": {},
   "outputs": [
    {
     "name": "stdout",
     "output_type": "stream",
     "text": [
      "[+] Loading dataset...\n",
      "[+] Initializing text splitter and model...\n",
      "[+] Using device: cuda\n",
      "[+] Chunking text and collecting metadata...\n"
     ]
    },
    {
     "name": "stderr",
     "output_type": "stream",
     "text": [
      "100%|██████████| 248617/248617 [02:50<00:00, 1460.55it/s]\n"
     ]
    },
    {
     "name": "stdout",
     "output_type": "stream",
     "text": [
      "[+] Total chunks: 449658\n",
      "[+] Generating embeddings...\n"
     ]
    },
    {
     "name": "stderr",
     "output_type": "stream",
     "text": [
      "Batches: 100%|██████████| 14052/14052 [27:25<00:00,  8.54it/s]\n"
     ]
    },
    {
     "name": "stdout",
     "output_type": "stream",
     "text": [
      "[+] Building FAISS index...\n",
      "[✓] Saved FAISS index and metadata for 449658 chunks.\n"
     ]
    }
   ],
   "source": [
    "# -------------------------\n",
    "# Load data\n",
    "# -------------------------\n",
    "print(\"[+] Loading dataset...\")\n",
    "df = pd.read_csv(DATA_PATH)\n",
    "assert \"cleaned_narrative\" in df.columns, \"Missing 'cleaned_narrative' column\"\n",
    "\n",
    "# -------------------------\n",
    "# Initialize components\n",
    "# -------------------------\n",
    "print(\"[+] Initializing text splitter and model...\")\n",
    "text_splitter = RecursiveCharacterTextSplitter(\n",
    "    chunk_size=CHUNK_SIZE,\n",
    "    chunk_overlap=CHUNK_OVERLAP\n",
    ")\n",
    "\n",
    "device = 'cuda'\n",
    "print(f\"[+] Using device: {device}\")\n",
    "\n",
    "model = SentenceTransformer(EMBEDDING_MODEL_NAME, device=device)\n",
    "\n",
    "# -------------------------\n",
    "# Chunk narratives and collect metadata\n",
    "# -------------------------\n",
    "print(\"[+] Chunking text and collecting metadata...\")\n",
    "all_chunks = []\n",
    "metadata_list = []\n",
    "\n",
    "for idx, row in tqdm(df.iterrows(), total=len(df)):\n",
    "    complaint_id = row.get(\"Complaint ID\", idx)\n",
    "    product = row[\"Product\"]\n",
    "    text = row[\"cleaned_narrative\"]\n",
    "\n",
    "    chunks = text_splitter.split_text(text)\n",
    "    for chunk in chunks:\n",
    "        all_chunks.append(chunk)\n",
    "        metadata_list.append({\n",
    "            \"complaint_id\": complaint_id,\n",
    "            \"product\": product,\n",
    "            \"text\": chunk\n",
    "        })\n",
    "\n",
    "print(f\"[+] Total chunks: {len(all_chunks)}\")\n",
    "\n",
    "# -------------------------\n",
    "# Generate embeddings (batch, GPU)\n",
    "# -------------------------\n",
    "print(\"[+] Generating embeddings...\")\n",
    "embeddings = model.encode(\n",
    "    all_chunks,\n",
    "    batch_size=BATCH_SIZE,\n",
    "    show_progress_bar=True,\n",
    "    convert_to_numpy=True,\n",
    "    device=device\n",
    ")\n",
    "\n",
    "# -------------------------\n",
    "# Build FAISS index\n",
    "# -------------------------\n",
    "print(\"[+] Building FAISS index...\")\n",
    "embedding_dim = embeddings.shape[1]\n",
    "index = faiss.IndexFlatL2(embedding_dim)\n",
    "index.add(embeddings)\n",
    "\n",
    "# -------------------------\n",
    "# Save index and metadata\n",
    "# -------------------------\n",
    "os.makedirs(VECTOR_STORE_DIR, exist_ok=True)\n",
    "\n",
    "faiss.write_index(index, os.path.join(VECTOR_STORE_DIR, \"faiss_index.bin\"))\n",
    "with open(os.path.join(VECTOR_STORE_DIR, \"metadata.pkl\"), \"wb\") as f:\n",
    "    pickle.dump(metadata_list, f)\n",
    "\n",
    "print(f\"[✓] Saved FAISS index and metadata for {len(embeddings)} chunks.\")"
   ]
  }
 ],
 "metadata": {
  "kernelspec": {
   "display_name": ".venv",
   "language": "python",
   "name": "python3"
  },
  "language_info": {
   "codemirror_mode": {
    "name": "ipython",
    "version": 3
   },
   "file_extension": ".py",
   "mimetype": "text/x-python",
   "name": "python",
   "nbconvert_exporter": "python",
   "pygments_lexer": "ipython3",
   "version": "3.12.10"
  }
 },
 "nbformat": 4,
 "nbformat_minor": 5
}
