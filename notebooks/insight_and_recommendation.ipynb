{
 "cells": [
  {
   "cell_type": "code",
   "execution_count": 1,
   "id": "c8f4417b",
   "metadata": {},
   "outputs": [
    {
     "name": "stdout",
     "output_type": "stream",
     "text": [
      "Project root: c:\\Users\\hp\\Documents\\Kifya-AI\\fintech-app-analytics-week2\n"
     ]
    }
   ],
   "source": [
    "import sys\n",
    "import os\n",
    "\n",
    "# Get the current working directory\n",
    "current_dir = os.getcwd()\n",
    "\n",
    "# Add the project root directory to the Python path\n",
    "project_root = os.path.abspath(os.path.join(current_dir, '..'))\n",
    "sys.path.insert(0, project_root)\n",
    "\n",
    "# Print the project root to verify\n",
    "print(f\"Project root: {project_root}\")"
   ]
  },
  {
   "cell_type": "code",
   "execution_count": 3,
   "id": "16859429",
   "metadata": {},
   "outputs": [],
   "source": [
    "from src.Insight.Analysis.analyzer import InsightAnalyzer\n",
    "from src.Insight.Visualization.visualizer import InsightVisualizer\n",
    "\n",
    "analyzer = InsightAnalyzer()\n",
    "visualizer = InsightVisualizer()\n"
   ]
  },
  {
   "cell_type": "code",
   "execution_count": 4,
   "id": "703ec07f",
   "metadata": {},
   "outputs": [
    {
     "name": "stdout",
     "output_type": "stream",
     "text": [
      "Top Positive Themes (Drivers) per Bank:\n",
      "      bank                                             themes  count\n",
      "7      BOA                                  ['Uncategorized']     52\n",
      "19     BOA                                ['User Experience']     32\n",
      "14     BOA              ['User Experience', 'App Technology']     17\n",
      "41     CBE                                ['User Experience']     62\n",
      "29     CBE                                  ['Uncategorized']     52\n",
      "36     CBE              ['User Experience', 'App Technology']     45\n",
      "60  Dashen  ['User Experience', 'App Technology', 'Bank Sp...     56\n",
      "53  Dashen                                  ['Uncategorized']     45\n",
      "71  Dashen                                ['User Experience']     44\n",
      "\n",
      "Top Negative Themes (Pain Points) per Bank:\n",
      "      bank                                             themes  count\n",
      "20     BOA                                  ['Uncategorized']     77\n",
      "10     BOA         ['App Technology', 'Issues / Pain Points']     42\n",
      "13     BOA                                 ['App Technology']     37\n",
      "51     CBE                                  ['Uncategorized']     57\n",
      "47     CBE                           ['Issues / Pain Points']     19\n",
      "40     CBE                                 ['App Technology']     14\n",
      "79  Dashen                                  ['Uncategorized']     31\n",
      "77  Dashen                           ['Issues / Pain Points']     12\n",
      "84  Dashen  ['User Experience', 'App Technology', 'Bank Sp...      7\n"
     ]
    },
    {
     "data": {
      "text/plain": [
       "(      bank                                             themes  count\n",
       " 7      BOA                                  ['Uncategorized']     52\n",
       " 19     BOA                                ['User Experience']     32\n",
       " 14     BOA              ['User Experience', 'App Technology']     17\n",
       " 1      BOA                                 ['App Technology']      8\n",
       " 4      BOA                           ['Issues / Pain Points']      8\n",
       " ..     ...                                                ...    ...\n",
       " 48  Dashen          ['Bank Specific', 'Issues / Pain Points']      1\n",
       " 50  Dashen                           ['Issues / Pain Points']      1\n",
       " 54  Dashen  ['User Experience', 'App Technology', 'Bank Sp...      1\n",
       " 61  Dashen  ['User Experience', 'App Technology', 'Issues ...      1\n",
       " 63  Dashen   ['User Experience', 'App Technology', 'Support']      1\n",
       " \n",
       " [72 rows x 3 columns],\n",
       "       bank                                             themes  count\n",
       " 20     BOA                                  ['Uncategorized']     77\n",
       " 10     BOA         ['App Technology', 'Issues / Pain Points']     42\n",
       " 13     BOA                                 ['App Technology']     37\n",
       " 18     BOA                           ['Issues / Pain Points']     26\n",
       " 3      BOA  ['App Technology', 'Bank Specific', 'Issues / ...     17\n",
       " ..     ...                                                ...    ...\n",
       " 80  Dashen  ['User Experience', 'App Technology', 'Bank Sp...      1\n",
       " 81  Dashen  ['User Experience', 'App Technology', 'Bank Sp...      1\n",
       " 85  Dashen  ['User Experience', 'App Technology', 'Issues ...      1\n",
       " 89  Dashen  ['User Experience', 'Transaction & Performance...      1\n",
       " 90  Dashen   ['User Experience', 'Transaction & Performance']      1\n",
       " \n",
       " [92 rows x 3 columns])"
      ]
     },
     "execution_count": 4,
     "metadata": {},
     "output_type": "execute_result"
    }
   ],
   "source": [
    "# identify drivers and painpoints\n",
    "analyzer.analyze_themes()\n"
   ]
  },
  {
   "cell_type": "code",
   "execution_count": 5,
   "id": "cfaf123d",
   "metadata": {},
   "outputs": [
    {
     "name": "stdout",
     "output_type": "stream",
     "text": [
      "     bank  sentiment_score    rating\n",
      "0     BOA         0.960206  2.754630\n",
      "1     CBE         0.968737  4.109974\n",
      "2  Dashen         0.984284  4.421569\n"
     ]
    },
    {
     "data": {
      "text/html": [
       "<div>\n",
       "<style scoped>\n",
       "    .dataframe tbody tr th:only-of-type {\n",
       "        vertical-align: middle;\n",
       "    }\n",
       "\n",
       "    .dataframe tbody tr th {\n",
       "        vertical-align: top;\n",
       "    }\n",
       "\n",
       "    .dataframe thead th {\n",
       "        text-align: right;\n",
       "    }\n",
       "</style>\n",
       "<table border=\"1\" class=\"dataframe\">\n",
       "  <thead>\n",
       "    <tr style=\"text-align: right;\">\n",
       "      <th></th>\n",
       "      <th>bank</th>\n",
       "      <th>sentiment_score</th>\n",
       "      <th>rating</th>\n",
       "    </tr>\n",
       "  </thead>\n",
       "  <tbody>\n",
       "    <tr>\n",
       "      <th>0</th>\n",
       "      <td>BOA</td>\n",
       "      <td>0.960206</td>\n",
       "      <td>2.754630</td>\n",
       "    </tr>\n",
       "    <tr>\n",
       "      <th>1</th>\n",
       "      <td>CBE</td>\n",
       "      <td>0.968737</td>\n",
       "      <td>4.109974</td>\n",
       "    </tr>\n",
       "    <tr>\n",
       "      <th>2</th>\n",
       "      <td>Dashen</td>\n",
       "      <td>0.984284</td>\n",
       "      <td>4.421569</td>\n",
       "    </tr>\n",
       "  </tbody>\n",
       "</table>\n",
       "</div>"
      ],
      "text/plain": [
       "     bank  sentiment_score    rating\n",
       "0     BOA         0.960206  2.754630\n",
       "1     CBE         0.968737  4.109974\n",
       "2  Dashen         0.984284  4.421569"
      ]
     },
     "execution_count": 5,
     "metadata": {},
     "output_type": "execute_result"
    }
   ],
   "source": [
    "# Average sentiment score and rating per bank\n",
    "analyzer.summarize_sentiment()\n"
   ]
  },
  {
   "cell_type": "code",
   "execution_count": 2,
   "id": "7efb5d4b",
   "metadata": {},
   "outputs": [
    {
     "ename": "NameError",
     "evalue": "name 'visualizer' is not defined",
     "output_type": "error",
     "traceback": [
      "\u001b[31m---------------------------------------------------------------------------\u001b[39m",
      "\u001b[31mNameError\u001b[39m                                 Traceback (most recent call last)",
      "\u001b[36mCell\u001b[39m\u001b[36m \u001b[39m\u001b[32mIn[2]\u001b[39m\u001b[32m, line 2\u001b[39m\n\u001b[32m      1\u001b[39m \u001b[38;5;66;03m#Sentiment Distribution per Bank (Bar Plot)\u001b[39;00m\n\u001b[32m----> \u001b[39m\u001b[32m2\u001b[39m \u001b[43mvisualizer\u001b[49m.plot_sentiment_distribution()\n",
      "\u001b[31mNameError\u001b[39m: name 'visualizer' is not defined"
     ]
    }
   ],
   "source": [
    "#Sentiment Distribution per Bank (Bar Plot)\n",
    "visualizer.plot_sentiment_distribution()"
   ]
  },
  {
   "cell_type": "code",
   "execution_count": 3,
   "id": "6b740fab",
   "metadata": {},
   "outputs": [
    {
     "ename": "NameError",
     "evalue": "name 'visualizer' is not defined",
     "output_type": "error",
     "traceback": [
      "\u001b[31m---------------------------------------------------------------------------\u001b[39m",
      "\u001b[31mNameError\u001b[39m                                 Traceback (most recent call last)",
      "\u001b[36mCell\u001b[39m\u001b[36m \u001b[39m\u001b[32mIn[3]\u001b[39m\u001b[32m, line 2\u001b[39m\n\u001b[32m      1\u001b[39m \u001b[38;5;66;03m# Rating Distribution per Bank (Box Plot)\u001b[39;00m\n\u001b[32m----> \u001b[39m\u001b[32m2\u001b[39m \u001b[43mvisualizer\u001b[49m.plot_rating_distribution()\n",
      "\u001b[31mNameError\u001b[39m: name 'visualizer' is not defined"
     ]
    }
   ],
   "source": [
    "# Rating Distribution per Bank (Box Plot)\n",
    "visualizer.plot_rating_distribution()\n"
   ]
  },
  {
   "cell_type": "code",
   "execution_count": 5,
   "id": "cdfbe966",
   "metadata": {},
   "outputs": [
    {
     "ename": "NameError",
     "evalue": "name 'visualizer' is not defined",
     "output_type": "error",
     "traceback": [
      "\u001b[31m---------------------------------------------------------------------------\u001b[39m",
      "\u001b[31mNameError\u001b[39m                                 Traceback (most recent call last)",
      "\u001b[36mCell\u001b[39m\u001b[36m \u001b[39m\u001b[32mIn[5]\u001b[39m\u001b[32m, line 2\u001b[39m\n\u001b[32m      1\u001b[39m \u001b[38;5;66;03m# Word Cloud of Themes (Keyword Cloud)\u001b[39;00m\n\u001b[32m----> \u001b[39m\u001b[32m2\u001b[39m \u001b[43mvisualizer\u001b[49m.generate_wordcloud()\n",
      "\u001b[31mNameError\u001b[39m: name 'visualizer' is not defined"
     ]
    }
   ],
   "source": [
    "# Word Cloud of Themes (Keyword Cloud)\n",
    "visualizer.generate_wordcloud()\n"
   ]
  },
  {
   "cell_type": "markdown",
   "id": "3a056ec1",
   "metadata": {},
   "source": [
    "### Ethics Note\n",
    "* Reviews might be biased toward negative experiences (users report problems more often).\n",
    "* Some reviews may be fake or incentivized; results should be validated carefully."
   ]
  },
  {
   "cell_type": "code",
   "execution_count": null,
   "id": "5b37fe9f",
   "metadata": {},
   "outputs": [],
   "source": []
  }
 ],
 "metadata": {
  "kernelspec": {
   "display_name": ".venv",
   "language": "python",
   "name": "python3"
  },
  "language_info": {
   "codemirror_mode": {
    "name": "ipython",
    "version": 3
   },
   "file_extension": ".py",
   "mimetype": "text/x-python",
   "name": "python",
   "nbconvert_exporter": "python",
   "pygments_lexer": "ipython3",
   "version": "3.12.10"
  }
 },
 "nbformat": 4,
 "nbformat_minor": 5
}
