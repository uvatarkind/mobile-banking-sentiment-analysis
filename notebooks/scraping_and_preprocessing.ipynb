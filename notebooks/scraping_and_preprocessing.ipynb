{
 "cells": [
  {
   "cell_type": "code",
   "execution_count": 1,
   "id": "c8f4417b",
   "metadata": {},
   "outputs": [
    {
     "name": "stdout",
     "output_type": "stream",
     "text": [
      "Project root: c:\\Users\\hp\\Documents\\Kifya-AI\\fintech-app-analytics-week2\n"
     ]
    }
   ],
   "source": [
    "import sys\n",
    "import os\n",
    "\n",
    "# Get the current working directory\n",
    "current_dir = os.getcwd()\n",
    "\n",
    "# Add the project root directory to the Python path\n",
    "project_root = os.path.abspath(os.path.join(current_dir, '..'))\n",
    "sys.path.insert(0, project_root)\n",
    "\n",
    "# Print the project root to verify\n",
    "print(f\"Project root: {project_root}\")"
   ]
  },
  {
   "cell_type": "code",
   "execution_count": 2,
   "id": "d6e670ad",
   "metadata": {},
   "outputs": [],
   "source": [
    "from src.Preprocessing.play_store_scraper import PlayStoreScraper\n",
    "\n",
    "# Initialize the PlayStoreScraper for each bank\n",
    "CBE_scraper = PlayStoreScraper(app_name='CBE', app_id='com.combanketh.mobilebanking')\n",
    "BOA_scraper = PlayStoreScraper(app_name='BOA', app_id='com.boa.boaMobileBanking')\n",
    "Dashen_scraper = PlayStoreScraper(app_name='Dashen', app_id='com.dashen.dashensuperapp')\n"
   ]
  },
  {
   "cell_type": "code",
   "execution_count": 3,
   "id": "3605429d",
   "metadata": {},
   "outputs": [
    {
     "name": "stdout",
     "output_type": "stream",
     "text": [
      "🔄 Fetching reviews for CBE (com.combanketh.mobilebanking)...\n",
      "✅ Saved 500 reviews to ../data/CBE_reviews.csv\n",
      "🔄 Fetching reviews for BOA (com.boa.boaMobileBanking)...\n",
      "✅ Saved 500 reviews to ../data/BOA_reviews.csv\n",
      "🔄 Fetching reviews for Dashen (com.dashen.dashensuperapp)...\n",
      "✅ Saved 448 reviews to ../data/Dashen_reviews.csv\n"
     ]
    }
   ],
   "source": [
    "# scrape the reviews for each bank\n",
    "CBE_scraper.scrape_reviews()\n",
    "BOA_scraper.scrape_reviews()\n",
    "Dashen_scraper.scrape_reviews()\n"
   ]
  },
  {
   "cell_type": "code",
   "execution_count": null,
   "id": "1e940724",
   "metadata": {},
   "outputs": [
    {
     "name": "stdout",
     "output_type": "stream",
     "text": [
      "✅ Loaded data from ../data/BOA_reviews.csv\n",
      "✅ Loaded data from ../data/CBE_reviews.csv\n",
      "✅ Loaded data from ../data/Dashen_reviews.csv\n"
     ]
    }
   ],
   "source": [
    "from src.Preprocessing.preprocessor import Preprocessor\n",
    "\n",
    "bank_paths = [\n",
    "    \"../data/BOA_reviews.csv\",\n",
    "    \"../data/CBE_reviews.csv\",\n",
    "    \"../data/Dashen_reviews.csv\"\n",
    "]\n",
    "\n",
    "# initialize the Preprocessing class\n",
    "preprocessing = Preprocessor(file_paths=bank_paths)\n",
    "\n",
    "#load the data\n",
    "data = preprocessing.load_data()"
   ]
  },
  {
   "cell_type": "code",
   "execution_count": 5,
   "id": "2e62d09b",
   "metadata": {},
   "outputs": [
    {
     "data": {
      "text/html": [
       "<div>\n",
       "<style scoped>\n",
       "    .dataframe tbody tr th:only-of-type {\n",
       "        vertical-align: middle;\n",
       "    }\n",
       "\n",
       "    .dataframe tbody tr th {\n",
       "        vertical-align: top;\n",
       "    }\n",
       "\n",
       "    .dataframe thead th {\n",
       "        text-align: right;\n",
       "    }\n",
       "</style>\n",
       "<table border=\"1\" class=\"dataframe\">\n",
       "  <thead>\n",
       "    <tr style=\"text-align: right;\">\n",
       "      <th></th>\n",
       "      <th>review</th>\n",
       "      <th>rating</th>\n",
       "      <th>date</th>\n",
       "      <th>bank</th>\n",
       "      <th>source</th>\n",
       "    </tr>\n",
       "  </thead>\n",
       "  <tbody>\n",
       "    <tr>\n",
       "      <th>0</th>\n",
       "      <td>it's not working</td>\n",
       "      <td>3</td>\n",
       "      <td>2025-06-05</td>\n",
       "      <td>BOA</td>\n",
       "      <td>Google Play</td>\n",
       "    </tr>\n",
       "    <tr>\n",
       "      <th>1</th>\n",
       "      <td>Hello, I’m facing a problem with the BOA Mobil...</td>\n",
       "      <td>1</td>\n",
       "      <td>2025-06-03</td>\n",
       "      <td>BOA</td>\n",
       "      <td>Google Play</td>\n",
       "    </tr>\n",
       "    <tr>\n",
       "      <th>2</th>\n",
       "      <td>exceptional</td>\n",
       "      <td>5</td>\n",
       "      <td>2025-06-03</td>\n",
       "      <td>BOA</td>\n",
       "      <td>Google Play</td>\n",
       "    </tr>\n",
       "    <tr>\n",
       "      <th>3</th>\n",
       "      <td>BoA Mobile good bank</td>\n",
       "      <td>5</td>\n",
       "      <td>2025-06-02</td>\n",
       "      <td>BOA</td>\n",
       "      <td>Google Play</td>\n",
       "    </tr>\n",
       "    <tr>\n",
       "      <th>4</th>\n",
       "      <td>this is worest app 24/7 loading</td>\n",
       "      <td>1</td>\n",
       "      <td>2025-06-01</td>\n",
       "      <td>BOA</td>\n",
       "      <td>Google Play</td>\n",
       "    </tr>\n",
       "    <tr>\n",
       "      <th>...</th>\n",
       "      <td>...</td>\n",
       "      <td>...</td>\n",
       "      <td>...</td>\n",
       "      <td>...</td>\n",
       "      <td>...</td>\n",
       "    </tr>\n",
       "    <tr>\n",
       "      <th>1224</th>\n",
       "      <td>Faster and userfriendly</td>\n",
       "      <td>5</td>\n",
       "      <td>2025-01-14</td>\n",
       "      <td>Dashen</td>\n",
       "      <td>Google Play</td>\n",
       "    </tr>\n",
       "    <tr>\n",
       "      <th>1225</th>\n",
       "      <td>Waw Great and innovated,user friendly, always ...</td>\n",
       "      <td>5</td>\n",
       "      <td>2025-01-13</td>\n",
       "      <td>Dashen</td>\n",
       "      <td>Google Play</td>\n",
       "    </tr>\n",
       "    <tr>\n",
       "      <th>1226</th>\n",
       "      <td>It's Best waww 🙏</td>\n",
       "      <td>5</td>\n",
       "      <td>2025-01-13</td>\n",
       "      <td>Dashen</td>\n",
       "      <td>Google Play</td>\n",
       "    </tr>\n",
       "    <tr>\n",
       "      <th>1227</th>\n",
       "      <td>Always one step ahead</td>\n",
       "      <td>5</td>\n",
       "      <td>2025-01-13</td>\n",
       "      <td>Dashen</td>\n",
       "      <td>Google Play</td>\n",
       "    </tr>\n",
       "    <tr>\n",
       "      <th>1228</th>\n",
       "      <td>Like Me, I Hope It Works Better Than Before.</td>\n",
       "      <td>5</td>\n",
       "      <td>2025-01-11</td>\n",
       "      <td>Dashen</td>\n",
       "      <td>Google Play</td>\n",
       "    </tr>\n",
       "  </tbody>\n",
       "</table>\n",
       "<p>1229 rows × 5 columns</p>\n",
       "</div>"
      ],
      "text/plain": [
       "                                                 review  rating       date  \\\n",
       "0                                      it's not working       3 2025-06-05   \n",
       "1     Hello, I’m facing a problem with the BOA Mobil...       1 2025-06-03   \n",
       "2                                           exceptional       5 2025-06-03   \n",
       "3                                  BoA Mobile good bank       5 2025-06-02   \n",
       "4                       this is worest app 24/7 loading       1 2025-06-01   \n",
       "...                                                 ...     ...        ...   \n",
       "1224                            Faster and userfriendly       5 2025-01-14   \n",
       "1225  Waw Great and innovated,user friendly, always ...       5 2025-01-13   \n",
       "1226                                   It's Best waww 🙏       5 2025-01-13   \n",
       "1227                              Always one step ahead       5 2025-01-13   \n",
       "1228       Like Me, I Hope It Works Better Than Before.       5 2025-01-11   \n",
       "\n",
       "        bank       source  \n",
       "0        BOA  Google Play  \n",
       "1        BOA  Google Play  \n",
       "2        BOA  Google Play  \n",
       "3        BOA  Google Play  \n",
       "4        BOA  Google Play  \n",
       "...      ...          ...  \n",
       "1224  Dashen  Google Play  \n",
       "1225  Dashen  Google Play  \n",
       "1226  Dashen  Google Play  \n",
       "1227  Dashen  Google Play  \n",
       "1228  Dashen  Google Play  \n",
       "\n",
       "[1229 rows x 5 columns]"
      ]
     },
     "execution_count": 5,
     "metadata": {},
     "output_type": "execute_result"
    }
   ],
   "source": [
    "#preprocess the reviews\n",
    "preprocessing.preprocess_data()"
   ]
  },
  {
   "cell_type": "code",
   "execution_count": 6,
   "id": "36b20633",
   "metadata": {},
   "outputs": [
    {
     "name": "stdout",
     "output_type": "stream",
     "text": [
      "✅ Saved preprocessed data to ../data/all_bank_reviews.csv\n"
     ]
    }
   ],
   "source": [
    "# save the preprocessed reviews to a CSV file\n",
    "preprocessing.save_data(\"../data/all_bank_reviews.csv\")"
   ]
  }
 ],
 "metadata": {
  "kernelspec": {
   "display_name": ".venv",
   "language": "python",
   "name": "python3"
  },
  "language_info": {
   "codemirror_mode": {
    "name": "ipython",
    "version": 3
   },
   "file_extension": ".py",
   "mimetype": "text/x-python",
   "name": "python",
   "nbconvert_exporter": "python",
   "pygments_lexer": "ipython3",
   "version": "3.12.10"
  }
 },
 "nbformat": 4,
 "nbformat_minor": 5
}
