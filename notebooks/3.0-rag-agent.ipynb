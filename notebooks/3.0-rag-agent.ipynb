{
 "cells": [
  {
   "cell_type": "code",
   "execution_count": 5,
   "id": "67ca9a82",
   "metadata": {},
   "outputs": [
    {
     "name": "stdout",
     "output_type": "stream",
     "text": [
      "Project root: c:\\Users\\hp\\Documents\\Kifya-AI\\complaint-analysis-week6\n"
     ]
    }
   ],
   "source": [
    "import sys\n",
    "import os\n",
    "\n",
    "# Get the current working directory\n",
    "current_dir = os.getcwd()\n",
    "\n",
    "# Add the project root directory to the Python path\n",
    "project_root = os.path.abspath(os.path.join(current_dir, '..'))\n",
    "sys.path.insert(0, project_root)\n",
    "\n",
    "# Print the project root to verify\n",
    "print(f\"Project root: {project_root}\")"
   ]
  },
  {
   "cell_type": "code",
   "execution_count": 6,
   "id": "2200c4a8",
   "metadata": {},
   "outputs": [],
   "source": [
    "from src.rag_pipeline import rag_answer"
   ]
  },
  {
   "cell_type": "code",
   "execution_count": 7,
   "id": "33600270",
   "metadata": {},
   "outputs": [
    {
     "name": "stdout",
     "output_type": "stream",
     "text": [
      "Answer: Based on the customer complaint excerpts, the common complaints with credit cards include:\n",
      "\n",
      "*   **Customer Service Issues:**\n",
      "    *   Incompetence and sloppiness from the company.\n",
      "    *   Difficulty resolving issues, requiring multiple contacts and escalation to managers.\n",
      "    *   Poor communication skills of representatives and bad phone connections.\n",
      "    *   Unhelpful, evasive, or \"run-around\" responses that don't answer questions.\n",
      "    *   Lack of a direct customer service line to call, forcing new complaints for each issue.\n",
      "    *   Unresponsiveness to legitimate customer complaints.\n",
      "    *   Concerns about the transparency of complaint handling (whether complaints are actually recorded or addressed).\n",
      "\n",
      "*   **Account and Card Management Problems:**\n",
      "    *   Negative impact on credit rating.\n",
      "    *   Card declining despite having sufficient funds.\n",
      "    *   Unexpected card blocking.\n",
      "    *   Receiving excessive, annoying, and daily calls about credit card issues.\n",
      "\n",
      "*   **Concerns about Business Practices:**\n",
      "    *   Perceived predatory practices, with the system appearing designed to generate interest charges.\n",
      "    *   Taking advantage of vulnerable customers (e.g., those using cards for medical payments).\n",
      "    *   Lack of accountability for issues and refusal to provide proper explanations.\n",
      "\n",
      "*   **Overall Experience:**\n",
      "    *   Significant waste of time and extreme frustration.\n",
      "Chunks used:\n",
      "1. the most frustrating waste of time and the worst problem i had ever had with a credit card company the level of incompetence the waste of my time and ...\n",
      "\n",
      "2. especially those who may not be as careful and as this card is touted as good for medical payments this can be a large class of people that are easy t...\n",
      "\n",
      "3. talking to at least xxxx different people all but xxxx had difficulty speaking and understanding xxxx and a bad phone connection making the conversati...\n",
      "\n",
      "4. i keep receiving many calls about credit card issues of which are justvery annoying they happen daily and many times more than once a day...\n",
      "\n",
      "5. xxxx purchases even today and refuse to give me a proper explanation as to why in those specific circumstances my card was declining despite having th...\n",
      "\n"
     ]
    }
   ],
   "source": [
    "result = rag_answer(\"What complaints are common with credit cards?\")\n",
    "print(\"Answer:\", result[\"answer\"])\n",
    "print(\"Chunks used:\")\n",
    "for i, chunk in enumerate(result[\"retrieved_chunks\"], 1):\n",
    "    print(f\"{i}. {chunk[:150]}...\\n\")\n"
   ]
  },
  {
   "cell_type": "code",
   "execution_count": null,
   "id": "e5172acb",
   "metadata": {},
   "outputs": [],
   "source": []
  }
 ],
 "metadata": {
  "kernelspec": {
   "display_name": ".venv",
   "language": "python",
   "name": "python3"
  },
  "language_info": {
   "codemirror_mode": {
    "name": "ipython",
    "version": 3
   },
   "file_extension": ".py",
   "mimetype": "text/x-python",
   "name": "python",
   "nbconvert_exporter": "python",
   "pygments_lexer": "ipython3",
   "version": "3.12.10"
  }
 },
 "nbformat": 4,
 "nbformat_minor": 5
}
